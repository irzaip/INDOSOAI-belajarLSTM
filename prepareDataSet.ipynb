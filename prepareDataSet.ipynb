{
  "nbformat": 4,
  "nbformat_minor": 0,
  "metadata": {
    "colab": {
      "name": "prepareDataSet.ipynb",
      "version": "0.3.2",
      "provenance": []
    },
    "kernelspec": {
      "name": "python3",
      "display_name": "Python 3"
    }
  },
  "cells": [
    {
      "metadata": {
        "id": "79cTzzWrCws-",
        "colab_type": "code",
        "colab": {}
      },
      "cell_type": "code",
      "source": [
        "from google.colab import files\n",
        "## UNCOMMENT AND UPLOAD KUNCI-GTRANSLATE.JSON\n",
        "## https://cloud.google.com/translate/docs/quickstart-client-libraries\n",
        "#files.upload()\n",
        "import os\n",
        "os.environ[\"GOOGLE_APPLICATION_CREDENTIALS\"]=\"/content/kunci-gtranslate.json\""
      ],
      "execution_count": 0,
      "outputs": []
    },
    {
      "metadata": {
        "id": "n44C4mO9CoWg",
        "colab_type": "code",
        "colab": {}
      },
      "cell_type": "code",
      "source": [
        "# Imports the Google Cloud client library\n",
        "from google.cloud import translate as trn\n",
        "\n",
        "# Instantiates a client\n",
        "translate_client = trn.Client()\n",
        "\n",
        "# The target language\n",
        "target = 'id'\n",
        "\n",
        "def translate(sentence):\n",
        "  translation = translate_client.translate(\n",
        "      sentence,\n",
        "      target_language=target)\n",
        "  return translation['translatedText']\n"
      ],
      "execution_count": 0,
      "outputs": []
    },
    {
      "metadata": {
        "id": "LjTL7LTvCpOx",
        "colab_type": "code",
        "colab": {
          "base_uri": "https://localhost:8080/",
          "height": 54
        },
        "outputId": "bff3afaf-3f51-495d-a40a-d3f637e956f1"
      },
      "cell_type": "code",
      "source": [
        "## IMPORT DATASET\n",
        "import pickle\n",
        "train_stories = pickle.load(open('./train_stories.pickle','rb'))\n",
        "test_stories = pickle.load(open('./test_stories.pickle','rb'))\n",
        "print(train_stories[0][0])"
      ],
      "execution_count": 39,
      "outputs": [
        {
          "output_type": "stream",
          "text": [
            "['Mary', 'moved', 'to', 'the', 'bathroom', '.', 'John', 'went', 'to', 'the', 'hallway', '.']\n"
          ],
          "name": "stdout"
        }
      ]
    },
    {
      "metadata": {
        "id": "MiwPMaErbO1Q",
        "colab_type": "code",
        "colab": {}
      },
      "cell_type": "code",
      "source": [
        "## DETOKENIZER\n",
        "import nltk\n",
        "nltk.download('perluniprops')\n",
        "nltk.download('punkt')\n",
        "from nltk.tokenize.moses import MosesDetokenizer\n",
        "import re\n",
        "detokenizer = MosesDetokenizer()\n",
        "detokenizer.detokenize(tt, return_str=True)\n",
        "import time"
      ],
      "execution_count": 0,
      "outputs": []
    },
    {
      "metadata": {
        "id": "e7e2LKBocJvj",
        "colab_type": "code",
        "colab": {}
      },
      "cell_type": "code",
      "source": [
        "## INI PROSES LENGKAPNYA\n",
        "\n",
        "%%time\n",
        "testresult = []\n",
        "for idx, i in enumerate(test_stories):\n",
        "    if (idx > 0) and (idx < 10000):\n",
        "        if (idx % 100) == 0: print('\\n',idx)\n",
        "        try:\n",
        "            phrase1 = translate(detokenizer.detokenize(train_stories[idx][0], return_str=True))\n",
        "            phrase1 = re.sub('kamar mandi','toilet',phrase1)\n",
        "\n",
        "            phrase1 = nltk.tokenize.word_tokenize(phrase1)\n",
        "            \n",
        "            \n",
        "            phrase2 = detokenizer.detokenize(train_stories[idx][1], return_str=True)\n",
        "            phrase2 = re.sub('Where is','Dimana', phrase2)            \n",
        "            phrase2 = nltk.tokenize.word_tokenize(phrase2)\n",
        "            \n",
        "            \n",
        "            phrase3 = train_stories[idx][2]\n",
        "            phrase3 = re.sub('garden','taman',phrase3)\n",
        "            phrase3 = re.sub('kitchen','dapur',phrase3)\n",
        "            phrase3 = re.sub('hallway','lorong',phrase3)\n",
        "            phrase3 = re.sub('bedroom','kamar',phrase3)\n",
        "            phrase3 = re.sub('office','kantor',phrase3)\n",
        "            phrase3 = re.sub('bathroom','toilet',phrase3)\n",
        "\n",
        "            #print(phrase1,phrase2,phrase3)\n",
        "            print('.',end='')\n",
        "            testresult.append((phrase1,phrase2,phrase3))\n",
        "            time.sleep(0.1)\n",
        "        except:\n",
        "            print('\\nError:',idx)\n",
        "            time.sleep(40)\n",
        "print('\\nDone\\n')\n"
      ],
      "execution_count": 0,
      "outputs": []
    },
    {
      "metadata": {
        "id": "uvMY4yVTmhUX",
        "colab_type": "code",
        "colab": {}
      },
      "cell_type": "code",
      "source": [
        "pickle.dump(testresult, open('id_test_stories.pickle','wb'))"
      ],
      "execution_count": 0,
      "outputs": []
    },
    {
      "metadata": {
        "id": "cXdsk1Csmyg9",
        "colab_type": "code",
        "colab": {}
      },
      "cell_type": "code",
      "source": [
        "print(train_stories[499])"
      ],
      "execution_count": 0,
      "outputs": []
    },
    {
      "metadata": {
        "id": "TQSc9WI8orNG",
        "colab_type": "code",
        "colab": {
          "base_uri": "https://localhost:8080/",
          "height": 34
        },
        "outputId": "4bb4e1bf-edc9-4da3-9473-c1978d436a9c"
      },
      "cell_type": "code",
      "source": [
        "len(test_stories)"
      ],
      "execution_count": 51,
      "outputs": [
        {
          "output_type": "execute_result",
          "data": {
            "text/plain": [
              "1000"
            ]
          },
          "metadata": {
            "tags": []
          },
          "execution_count": 51
        }
      ]
    },
    {
      "metadata": {
        "id": "YPGkqyJNo1D8",
        "colab_type": "code",
        "colab": {}
      },
      "cell_type": "code",
      "source": [
        ""
      ],
      "execution_count": 0,
      "outputs": []
    }
  ]
}